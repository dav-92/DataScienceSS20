{
  "nbformat": 4,
  "nbformat_minor": 0,
  "metadata": {
    "kernelspec": {
      "display_name": "Python 3",
      "language": "python",
      "name": "python3"
    },
    "language_info": {
      "codemirror_mode": {
        "name": "ipython",
        "version": 3
      },
      "file_extension": ".py",
      "mimetype": "text/x-python",
      "name": "python",
      "nbconvert_exporter": "python",
      "pygments_lexer": "ipython3",
      "version": "3.7.6"
    },
    "colab": {
      "name": "3_e_GroupBy_II.ipynb",
      "provenance": []
    }
  },
  "cells": [
    {
      "cell_type": "markdown",
      "metadata": {
        "id": "FvOIq0sNqyEB",
        "colab_type": "text"
      },
      "source": [
        "# GroupBy II"
      ]
    },
    {
      "cell_type": "code",
      "metadata": {
        "id": "oLyK7A89qyEE",
        "colab_type": "code",
        "colab": {}
      },
      "source": [
        "import pandas as pd"
      ],
      "execution_count": 0,
      "outputs": []
    },
    {
      "cell_type": "markdown",
      "metadata": {
        "id": "BGFcoXbrqyEK",
        "colab_type": "text"
      },
      "source": [
        "### Use Case: statistics on Occupations. "
      ]
    },
    {
      "cell_type": "code",
      "metadata": {
        "id": "YnDV9sVpqyEL",
        "colab_type": "code",
        "colab": {
          "base_uri": "https://localhost:8080/",
          "height": 235
        },
        "outputId": "6ccca65c-9cf2-4106-8174-334b9faecd91"
      },
      "source": [
        "users = pd.read_table('https://raw.githubusercontent.com/justmarkham/DAT8/master/data/u.user', \n",
        "                      sep='|', index_col='user_id')\n",
        "users.head()"
      ],
      "execution_count": 2,
      "outputs": [
        {
          "output_type": "execute_result",
          "data": {
            "text/html": [
              "<div>\n",
              "<style scoped>\n",
              "    .dataframe tbody tr th:only-of-type {\n",
              "        vertical-align: middle;\n",
              "    }\n",
              "\n",
              "    .dataframe tbody tr th {\n",
              "        vertical-align: top;\n",
              "    }\n",
              "\n",
              "    .dataframe thead th {\n",
              "        text-align: right;\n",
              "    }\n",
              "</style>\n",
              "<table border=\"1\" class=\"dataframe\">\n",
              "  <thead>\n",
              "    <tr style=\"text-align: right;\">\n",
              "      <th></th>\n",
              "      <th>age</th>\n",
              "      <th>gender</th>\n",
              "      <th>occupation</th>\n",
              "      <th>zip_code</th>\n",
              "    </tr>\n",
              "    <tr>\n",
              "      <th>user_id</th>\n",
              "      <th></th>\n",
              "      <th></th>\n",
              "      <th></th>\n",
              "      <th></th>\n",
              "    </tr>\n",
              "  </thead>\n",
              "  <tbody>\n",
              "    <tr>\n",
              "      <th>1</th>\n",
              "      <td>24</td>\n",
              "      <td>M</td>\n",
              "      <td>technician</td>\n",
              "      <td>85711</td>\n",
              "    </tr>\n",
              "    <tr>\n",
              "      <th>2</th>\n",
              "      <td>53</td>\n",
              "      <td>F</td>\n",
              "      <td>other</td>\n",
              "      <td>94043</td>\n",
              "    </tr>\n",
              "    <tr>\n",
              "      <th>3</th>\n",
              "      <td>23</td>\n",
              "      <td>M</td>\n",
              "      <td>writer</td>\n",
              "      <td>32067</td>\n",
              "    </tr>\n",
              "    <tr>\n",
              "      <th>4</th>\n",
              "      <td>24</td>\n",
              "      <td>M</td>\n",
              "      <td>technician</td>\n",
              "      <td>43537</td>\n",
              "    </tr>\n",
              "    <tr>\n",
              "      <th>5</th>\n",
              "      <td>33</td>\n",
              "      <td>F</td>\n",
              "      <td>other</td>\n",
              "      <td>15213</td>\n",
              "    </tr>\n",
              "  </tbody>\n",
              "</table>\n",
              "</div>"
            ],
            "text/plain": [
              "         age gender  occupation zip_code\n",
              "user_id                                 \n",
              "1         24      M  technician    85711\n",
              "2         53      F       other    94043\n",
              "3         23      M      writer    32067\n",
              "4         24      M  technician    43537\n",
              "5         33      F       other    15213"
            ]
          },
          "metadata": {
            "tags": []
          },
          "execution_count": 2
        }
      ]
    },
    {
      "cell_type": "markdown",
      "metadata": {
        "id": "hNk5RT4pqyEW",
        "colab_type": "text"
      },
      "source": [
        "### Get the mean age per occupation"
      ]
    },
    {
      "cell_type": "code",
      "metadata": {
        "id": "CD1J5ZRSqyEX",
        "colab_type": "code",
        "colab": {
          "base_uri": "https://localhost:8080/",
          "height": 408
        },
        "outputId": "8acd31ce-b3ae-4c06-869c-37a2e9f1b9f4"
      },
      "source": [
        "occupation = users.groupby('occupation')\n",
        "occupation.age.mean()"
      ],
      "execution_count": 3,
      "outputs": [
        {
          "output_type": "execute_result",
          "data": {
            "text/plain": [
              "occupation\n",
              "administrator    38.746835\n",
              "artist           31.392857\n",
              "doctor           43.571429\n",
              "educator         42.010526\n",
              "engineer         36.388060\n",
              "entertainment    29.222222\n",
              "executive        38.718750\n",
              "healthcare       41.562500\n",
              "homemaker        32.571429\n",
              "lawyer           36.750000\n",
              "librarian        40.000000\n",
              "marketing        37.615385\n",
              "none             26.555556\n",
              "other            34.523810\n",
              "programmer       33.121212\n",
              "retired          63.071429\n",
              "salesman         35.666667\n",
              "scientist        35.548387\n",
              "student          22.081633\n",
              "technician       33.148148\n",
              "writer           36.311111\n",
              "Name: age, dtype: float64"
            ]
          },
          "metadata": {
            "tags": []
          },
          "execution_count": 3
        }
      ]
    },
    {
      "cell_type": "markdown",
      "metadata": {
        "id": "bp9l1-hSqyEd",
        "colab_type": "text"
      },
      "source": [
        "### Get the Male ratio per occupation and sort it from the most to the least"
      ]
    },
    {
      "cell_type": "code",
      "metadata": {
        "id": "Gz6OOgzYqyEd",
        "colab_type": "code",
        "colab": {}
      },
      "source": [
        "def toNumber(gender):\n",
        "    if gender == 'M':\n",
        "        return 1\n",
        "    return 0"
      ],
      "execution_count": 0,
      "outputs": []
    },
    {
      "cell_type": "code",
      "metadata": {
        "id": "pHUA5r2nV09q",
        "colab_type": "code",
        "colab": {}
      },
      "source": [
        "genderAsNumber = users.gender.apply(toNumber)\n",
        "users['genderAsNumber'] = genderAsNumber\n",
        "users"
      ],
      "execution_count": 0,
      "outputs": []
    },
    {
      "cell_type": "code",
      "metadata": {
        "id": "PDw9juYxWHiC",
        "colab_type": "code",
        "colab": {
          "base_uri": "https://localhost:8080/",
          "height": 391
        },
        "outputId": "fa6a1e61-ff36-4f16-eb6f-fffc41eeafb1"
      },
      "source": [
        "ratios = occupation.genderAsNumber.sum() / users.occupation.value_counts()\n",
        "ratios.sort_values(ascending=False)"
      ],
      "execution_count": 48,
      "outputs": [
        {
          "output_type": "execute_result",
          "data": {
            "text/plain": [
              "doctor           1.000000\n",
              "engineer         0.970149\n",
              "technician       0.962963\n",
              "retired          0.928571\n",
              "programmer       0.909091\n",
              "executive        0.906250\n",
              "scientist        0.903226\n",
              "entertainment    0.888889\n",
              "lawyer           0.833333\n",
              "salesman         0.750000\n",
              "educator         0.726316\n",
              "student          0.693878\n",
              "other            0.657143\n",
              "marketing        0.615385\n",
              "writer           0.577778\n",
              "none             0.555556\n",
              "administrator    0.544304\n",
              "artist           0.535714\n",
              "librarian        0.431373\n",
              "healthcare       0.312500\n",
              "homemaker        0.142857\n",
              "dtype: float64"
            ]
          },
          "metadata": {
            "tags": []
          },
          "execution_count": 48
        }
      ]
    },
    {
      "cell_type": "markdown",
      "metadata": {
        "id": "rrXTysHvqyEh",
        "colab_type": "text"
      },
      "source": [
        "### For each occupation, calculate the minimum and maximum ages"
      ]
    },
    {
      "cell_type": "code",
      "metadata": {
        "id": "AWqu6XRwqyEi",
        "colab_type": "code",
        "colab": {
          "base_uri": "https://localhost:8080/",
          "height": 408
        },
        "outputId": "71061f9b-b07a-4be4-b1aa-2f0492175a80"
      },
      "source": [
        "occupation.age.min()"
      ],
      "execution_count": 52,
      "outputs": [
        {
          "output_type": "execute_result",
          "data": {
            "text/plain": [
              "occupation\n",
              "administrator    21\n",
              "artist           19\n",
              "doctor           28\n",
              "educator         23\n",
              "engineer         22\n",
              "entertainment    15\n",
              "executive        22\n",
              "healthcare       22\n",
              "homemaker        20\n",
              "lawyer           21\n",
              "librarian        23\n",
              "marketing        24\n",
              "none             11\n",
              "other            13\n",
              "programmer       20\n",
              "retired          51\n",
              "salesman         18\n",
              "scientist        23\n",
              "student           7\n",
              "technician       21\n",
              "writer           18\n",
              "Name: age, dtype: int64"
            ]
          },
          "metadata": {
            "tags": []
          },
          "execution_count": 52
        }
      ]
    },
    {
      "cell_type": "code",
      "metadata": {
        "id": "_9h81a8fZKC1",
        "colab_type": "code",
        "colab": {
          "base_uri": "https://localhost:8080/",
          "height": 408
        },
        "outputId": "c6c1b56e-27f4-42e1-bf60-501c2168cdab"
      },
      "source": [
        "occupation.age.max()"
      ],
      "execution_count": 53,
      "outputs": [
        {
          "output_type": "execute_result",
          "data": {
            "text/plain": [
              "occupation\n",
              "administrator    70\n",
              "artist           48\n",
              "doctor           64\n",
              "educator         63\n",
              "engineer         70\n",
              "entertainment    50\n",
              "executive        69\n",
              "healthcare       62\n",
              "homemaker        50\n",
              "lawyer           53\n",
              "librarian        69\n",
              "marketing        55\n",
              "none             55\n",
              "other            64\n",
              "programmer       63\n",
              "retired          73\n",
              "salesman         66\n",
              "scientist        55\n",
              "student          42\n",
              "technician       55\n",
              "writer           60\n",
              "Name: age, dtype: int64"
            ]
          },
          "metadata": {
            "tags": []
          },
          "execution_count": 53
        }
      ]
    },
    {
      "cell_type": "markdown",
      "metadata": {
        "id": "G0Y8t0_yqyEp",
        "colab_type": "text"
      },
      "source": [
        "### For each combination of occupation and gender, calculate the mean age"
      ]
    },
    {
      "cell_type": "code",
      "metadata": {
        "id": "FjgYOscAqyEr",
        "colab_type": "code",
        "colab": {
          "base_uri": "https://localhost:8080/",
          "height": 748
        },
        "outputId": "94ca5004-ea18-4159-9dd5-76577c4a9d13"
      },
      "source": [
        "users.groupby(['occupation','gender']).age.mean()"
      ],
      "execution_count": 57,
      "outputs": [
        {
          "output_type": "execute_result",
          "data": {
            "text/plain": [
              "occupation     gender\n",
              "administrator  F         40.638889\n",
              "               M         37.162791\n",
              "artist         F         30.307692\n",
              "               M         32.333333\n",
              "doctor         M         43.571429\n",
              "educator       F         39.115385\n",
              "               M         43.101449\n",
              "engineer       F         29.500000\n",
              "               M         36.600000\n",
              "entertainment  F         31.000000\n",
              "               M         29.000000\n",
              "executive      F         44.000000\n",
              "               M         38.172414\n",
              "healthcare     F         39.818182\n",
              "               M         45.400000\n",
              "homemaker      F         34.166667\n",
              "               M         23.000000\n",
              "lawyer         F         39.500000\n",
              "               M         36.200000\n",
              "librarian      F         40.000000\n",
              "               M         40.000000\n",
              "marketing      F         37.200000\n",
              "               M         37.875000\n",
              "none           F         36.500000\n",
              "               M         18.600000\n",
              "other          F         35.472222\n",
              "               M         34.028986\n",
              "programmer     F         32.166667\n",
              "               M         33.216667\n",
              "retired        F         70.000000\n",
              "               M         62.538462\n",
              "salesman       F         27.000000\n",
              "               M         38.555556\n",
              "scientist      F         28.333333\n",
              "               M         36.321429\n",
              "student        F         20.750000\n",
              "               M         22.669118\n",
              "technician     F         38.000000\n",
              "               M         32.961538\n",
              "writer         F         37.631579\n",
              "               M         35.346154\n",
              "Name: age, dtype: float64"
            ]
          },
          "metadata": {
            "tags": []
          },
          "execution_count": 57
        }
      ]
    },
    {
      "cell_type": "markdown",
      "metadata": {
        "id": "iXr3btn0qyEy",
        "colab_type": "text"
      },
      "source": [
        "### [dificult] For each occupation present the percentage of women and men"
      ]
    },
    {
      "cell_type": "code",
      "metadata": {
        "id": "6FfewVTbqyEz",
        "colab_type": "code",
        "colab": {
          "base_uri": "https://localhost:8080/",
          "height": 391
        },
        "outputId": "29d8428d-4e15-4a64-ee4f-ba442de19f7c"
      },
      "source": [
        "percentageMale = occupation.genderAsNumber.sum() / users.occupation.value_counts() * 100\n",
        "percentageMale"
      ],
      "execution_count": 63,
      "outputs": [
        {
          "output_type": "execute_result",
          "data": {
            "text/plain": [
              "administrator     54.430380\n",
              "artist            53.571429\n",
              "doctor           100.000000\n",
              "educator          72.631579\n",
              "engineer          97.014925\n",
              "entertainment     88.888889\n",
              "executive         90.625000\n",
              "healthcare        31.250000\n",
              "homemaker         14.285714\n",
              "lawyer            83.333333\n",
              "librarian         43.137255\n",
              "marketing         61.538462\n",
              "none              55.555556\n",
              "other             65.714286\n",
              "programmer        90.909091\n",
              "retired           92.857143\n",
              "salesman          75.000000\n",
              "scientist         90.322581\n",
              "student           69.387755\n",
              "technician        96.296296\n",
              "writer            57.777778\n",
              "dtype: float64"
            ]
          },
          "metadata": {
            "tags": []
          },
          "execution_count": 63
        }
      ]
    },
    {
      "cell_type": "code",
      "metadata": {
        "id": "ySfFagi8aKsc",
        "colab_type": "code",
        "colab": {
          "base_uri": "https://localhost:8080/",
          "height": 391
        },
        "outputId": "8c46a327-4c00-40cf-f9b5-17c1e1ba9fb2"
      },
      "source": [
        "percentageWoman = 100 - percentageMale\n",
        "percentageWoman"
      ],
      "execution_count": 65,
      "outputs": [
        {
          "output_type": "execute_result",
          "data": {
            "text/plain": [
              "administrator    45.569620\n",
              "artist           46.428571\n",
              "doctor            0.000000\n",
              "educator         27.368421\n",
              "engineer          2.985075\n",
              "entertainment    11.111111\n",
              "executive         9.375000\n",
              "healthcare       68.750000\n",
              "homemaker        85.714286\n",
              "lawyer           16.666667\n",
              "librarian        56.862745\n",
              "marketing        38.461538\n",
              "none             44.444444\n",
              "other            34.285714\n",
              "programmer        9.090909\n",
              "retired           7.142857\n",
              "salesman         25.000000\n",
              "scientist         9.677419\n",
              "student          30.612245\n",
              "technician        3.703704\n",
              "writer           42.222222\n",
              "dtype: float64"
            ]
          },
          "metadata": {
            "tags": []
          },
          "execution_count": 65
        }
      ]
    }
  ]
}