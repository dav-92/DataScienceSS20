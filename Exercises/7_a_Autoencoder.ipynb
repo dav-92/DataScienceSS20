{
  "nbformat": 4,
  "nbformat_minor": 0,
  "metadata": {
    "colab": {
      "name": "Exercise 1.ipynb",
      "provenance": []
    },
    "kernelspec": {
      "display_name": "Python 3",
      "language": "python",
      "name": "python3"
    },
    "language_info": {
      "codemirror_mode": {
        "name": "ipython",
        "version": 3
      },
      "file_extension": ".py",
      "mimetype": "text/x-python",
      "name": "python",
      "nbconvert_exporter": "python",
      "pygments_lexer": "ipython3",
      "version": "3.7.6"
    }
  },
  "cells": [
    {
      "cell_type": "markdown",
      "metadata": {
        "colab_type": "text",
        "id": "Nb5B49Gt2Tfr"
      },
      "source": [
        "# Excercise 1: Autoencoder\n",
        "\n",
        "We have allready seen a simple MLP model for **MNIST** classification:"
      ]
    },
    {
      "cell_type": "code",
      "metadata": {
        "colab_type": "code",
        "id": "R0ja22Zw2a08",
        "colab": {
          "base_uri": "https://localhost:8080/",
          "height": 425
        },
        "outputId": "6dee5eaf-a558-4f15-ae7b-09606494a037"
      },
      "source": [
        "import numpy as np\n",
        "import tensorflow as tf\n",
        "from tensorflow import keras\n",
        "from tensorflow.keras import layers\n",
        "\n",
        "# Get the data as Numpy arrays\n",
        "(x_train, y_train), (x_test, y_test) = keras.datasets.mnist.load_data()\n",
        "\n",
        "# Build a simple model\n",
        "inputs = keras.Input(shape=(28, 28))\n",
        "l1 = layers.experimental.preprocessing.Rescaling(1.0 / 255)(inputs)\n",
        "l2 = layers.Flatten()(l1)\n",
        "l3 = layers.Dense(128, activation=\"tanh\")(l2)\n",
        "l4 = layers.Dense(128, activation=\"tanh\")(l3)\n",
        "outputs = layers.Dense(10, activation=\"softmax\")(l4)\n",
        "model = keras.Model(inputs, outputs)\n",
        "model.summary()\n",
        "\n",
        "# Compile the model\n",
        "model.compile(optimizer=\"adam\", loss=\"sparse_categorical_crossentropy\")\n",
        "\n",
        "# Train the model for 1 epoch from Numpy data\n",
        "batch_size = 64\n",
        "print(\"Fit on NumPy data\")\n",
        "history = model.fit(x_train, y_train, batch_size=batch_size, epochs=1)\n",
        "\n",
        "# Train the model for 1 epoch using a dataset\n",
        "dataset = tf.data.Dataset.from_tensor_slices((x_train, y_train)).batch(batch_size)\n",
        "print(\"Fit on Dataset\")\n",
        "history = model.fit(dataset, epochs=1)\n"
      ],
      "execution_count": 2,
      "outputs": [
        {
          "output_type": "stream",
          "text": [
            "Model: \"model_1\"\n",
            "_________________________________________________________________\n",
            "Layer (type)                 Output Shape              Param #   \n",
            "=================================================================\n",
            "input_2 (InputLayer)         [(None, 28, 28)]          0         \n",
            "_________________________________________________________________\n",
            "rescaling_1 (Rescaling)      (None, 28, 28)            0         \n",
            "_________________________________________________________________\n",
            "flatten_1 (Flatten)          (None, 784)               0         \n",
            "_________________________________________________________________\n",
            "dense_3 (Dense)              (None, 128)               100480    \n",
            "_________________________________________________________________\n",
            "dense_4 (Dense)              (None, 128)               16512     \n",
            "_________________________________________________________________\n",
            "dense_5 (Dense)              (None, 10)                1290      \n",
            "=================================================================\n",
            "Total params: 118,282\n",
            "Trainable params: 118,282\n",
            "Non-trainable params: 0\n",
            "_________________________________________________________________\n",
            "Fit on NumPy data\n",
            "938/938 [==============================] - 2s 3ms/step - loss: 0.2856\n",
            "Fit on Dataset\n",
            "938/938 [==============================] - 3s 3ms/step - loss: 0.1427\n"
          ],
          "name": "stdout"
        }
      ]
    },
    {
      "cell_type": "markdown",
      "metadata": {
        "colab_type": "text",
        "id": "1X8K2JP13RoC"
      },
      "source": [
        "Now we want to change this model and build an **autoencoder** for **MNIST**:\n",
        "\n",
        "**1. change the network topology:** \n",
        "* use 5 dense layers to form \"bottleneck\" network (see lecture). \n",
        "* Layers 1+2 should be the encoder, 3 the lattent layer aner 4+5 the decoder\n",
        "* remove the softmax (we are not doing a classification anymore)\n",
        "\n",
        "**2. change the loss-function to compare input and output -> choose a suitable loss from https://keras.io/api/losses/**\n",
        "\n",
        "**3. train the model**\n",
        "\n",
        "**4. test the model**\n",
        "* visualize input and output images to inspect the reconstruction quallity (use MATPLOTLIB *imshow*)\n",
        "* implement a function to measure the reconstrunction error between in- and output\n",
        "* change network size (number of neurons per layer) and training paramters to optimize the ressults \n",
        "\n",
        "**5. Outlier detection**\n",
        "* plot a histogram over the the recostruction errors\n",
        "* find a cutoff value and visualize the outliers"
      ]
    },
    {
      "cell_type": "code",
      "metadata": {
        "colab_type": "code",
        "id": "2BRusC-Z2yjD",
        "colab": {
          "base_uri": "https://localhost:8080/",
          "height": 357
        },
        "outputId": "5216dc27-9332-4ece-849a-bbf54cd0fb53"
      },
      "source": [
        "inputs = keras.Input(shape=(784,))\n",
        "#encoder\n",
        "l1 = layers.Dense(128, activation=\"tanh\")(inputs)\n",
        "l2 = layers.Dense(64, activation=\"tanh\")(l1)\n",
        "#latent space\n",
        "l3 = layers.Dense(32, activation=\"tanh\")(l2)\n",
        "#decoder\n",
        "l4 = layers.Dense(64, activation=\"tanh\")(l3)\n",
        "l5 = layers.Dense(128, activation=\"tanh\")(l4)\n",
        "outputs = layers.Dense(28*28)(l4)\n",
        "model = keras.Model(inputs, outputs)\n",
        "model.summary()"
      ],
      "execution_count": 65,
      "outputs": [
        {
          "output_type": "stream",
          "text": [
            "Model: \"model_15\"\n",
            "_________________________________________________________________\n",
            "Layer (type)                 Output Shape              Param #   \n",
            "=================================================================\n",
            "input_20 (InputLayer)        [(None, 784)]             0         \n",
            "_________________________________________________________________\n",
            "dense_97 (Dense)             (None, 128)               100480    \n",
            "_________________________________________________________________\n",
            "dense_98 (Dense)             (None, 64)                8256      \n",
            "_________________________________________________________________\n",
            "dense_99 (Dense)             (None, 32)                2080      \n",
            "_________________________________________________________________\n",
            "dense_100 (Dense)            (None, 64)                2112      \n",
            "_________________________________________________________________\n",
            "dense_102 (Dense)            (None, 784)               50960     \n",
            "=================================================================\n",
            "Total params: 163,888\n",
            "Trainable params: 163,888\n",
            "Non-trainable params: 0\n",
            "_________________________________________________________________\n"
          ],
          "name": "stdout"
        }
      ]
    },
    {
      "cell_type": "code",
      "metadata": {
        "id": "8Rxe6_ZfB4w-",
        "colab_type": "code",
        "colab": {}
      },
      "source": [
        "model.compile(optimizer=\"adam\", loss=\"mean_squared_error\")"
      ],
      "execution_count": 66,
      "outputs": []
    },
    {
      "cell_type": "code",
      "metadata": {
        "id": "qc3Q1_b5Dydf",
        "colab_type": "code",
        "colab": {}
      },
      "source": [
        "#taken from solution\n",
        "# Get the data as Numpy arrays\n",
        "(x_train, y_train), (x_test, y_test) = keras.datasets.mnist.load_data()\n",
        "#normalize\n",
        "x_train = x_train.astype('float32') / 255.\n",
        "#reshape input to 1D\n",
        "x_train = x_train.reshape((len(x_train), np.prod(x_train.shape[1:])))"
      ],
      "execution_count": 67,
      "outputs": []
    },
    {
      "cell_type": "code",
      "metadata": {
        "id": "ZEKxSZhaCWsg",
        "colab_type": "code",
        "colab": {
          "base_uri": "https://localhost:8080/",
          "height": 1000
        },
        "outputId": "e317dfca-e881-4024-e53f-2f009ff18090"
      },
      "source": [
        "history = model.fit(x_train, x_train, batch_size=64, epochs=100)"
      ],
      "execution_count": 68,
      "outputs": [
        {
          "output_type": "stream",
          "text": [
            "Epoch 1/100\n",
            "938/938 [==============================] - 3s 3ms/step - loss: 0.0280\n",
            "Epoch 2/100\n",
            "938/938 [==============================] - 3s 3ms/step - loss: 0.0182\n",
            "Epoch 3/100\n",
            "938/938 [==============================] - 3s 3ms/step - loss: 0.0178\n",
            "Epoch 4/100\n",
            "938/938 [==============================] - 3s 4ms/step - loss: 0.0176\n",
            "Epoch 5/100\n",
            "938/938 [==============================] - 3s 3ms/step - loss: 0.0175\n",
            "Epoch 6/100\n",
            "938/938 [==============================] - 3s 3ms/step - loss: 0.0173\n",
            "Epoch 7/100\n",
            "938/938 [==============================] - 3s 3ms/step - loss: 0.0171\n",
            "Epoch 8/100\n",
            "938/938 [==============================] - 3s 3ms/step - loss: 0.0168\n",
            "Epoch 9/100\n",
            "938/938 [==============================] - 3s 4ms/step - loss: 0.0165\n",
            "Epoch 10/100\n",
            "938/938 [==============================] - 3s 3ms/step - loss: 0.0162\n",
            "Epoch 11/100\n",
            "938/938 [==============================] - 3s 4ms/step - loss: 0.0159\n",
            "Epoch 12/100\n",
            "938/938 [==============================] - 3s 3ms/step - loss: 0.0157\n",
            "Epoch 13/100\n",
            "938/938 [==============================] - 3s 3ms/step - loss: 0.0155\n",
            "Epoch 14/100\n",
            "938/938 [==============================] - 3s 3ms/step - loss: 0.0153\n",
            "Epoch 15/100\n",
            "938/938 [==============================] - 3s 3ms/step - loss: 0.0151\n",
            "Epoch 16/100\n",
            "938/938 [==============================] - 3s 3ms/step - loss: 0.0150\n",
            "Epoch 17/100\n",
            "938/938 [==============================] - 3s 3ms/step - loss: 0.0149\n",
            "Epoch 18/100\n",
            "938/938 [==============================] - 3s 3ms/step - loss: 0.0148\n",
            "Epoch 19/100\n",
            "938/938 [==============================] - 3s 4ms/step - loss: 0.0146\n",
            "Epoch 20/100\n",
            "938/938 [==============================] - 3s 3ms/step - loss: 0.0145\n",
            "Epoch 21/100\n",
            "938/938 [==============================] - 3s 3ms/step - loss: 0.0145\n",
            "Epoch 22/100\n",
            "938/938 [==============================] - 3s 4ms/step - loss: 0.0144\n",
            "Epoch 23/100\n",
            "938/938 [==============================] - 3s 3ms/step - loss: 0.0143\n",
            "Epoch 24/100\n",
            "938/938 [==============================] - 3s 3ms/step - loss: 0.0142\n",
            "Epoch 25/100\n",
            "938/938 [==============================] - 3s 4ms/step - loss: 0.0141\n",
            "Epoch 26/100\n",
            "938/938 [==============================] - 3s 4ms/step - loss: 0.0141\n",
            "Epoch 27/100\n",
            "938/938 [==============================] - 3s 3ms/step - loss: 0.0140\n",
            "Epoch 28/100\n",
            "938/938 [==============================] - 3s 3ms/step - loss: 0.0140\n",
            "Epoch 29/100\n",
            "938/938 [==============================] - 3s 4ms/step - loss: 0.0139\n",
            "Epoch 30/100\n",
            "938/938 [==============================] - 3s 4ms/step - loss: 0.0139\n",
            "Epoch 31/100\n",
            "938/938 [==============================] - 3s 3ms/step - loss: 0.0138\n",
            "Epoch 32/100\n",
            "938/938 [==============================] - 3s 3ms/step - loss: 0.0138\n",
            "Epoch 33/100\n",
            "938/938 [==============================] - 3s 3ms/step - loss: 0.0138\n",
            "Epoch 34/100\n",
            "938/938 [==============================] - 3s 4ms/step - loss: 0.0137\n",
            "Epoch 35/100\n",
            "938/938 [==============================] - 3s 3ms/step - loss: 0.0137\n",
            "Epoch 36/100\n",
            "938/938 [==============================] - 3s 3ms/step - loss: 0.0136\n",
            "Epoch 37/100\n",
            "938/938 [==============================] - 3s 3ms/step - loss: 0.0136\n",
            "Epoch 38/100\n",
            "938/938 [==============================] - 3s 4ms/step - loss: 0.0136\n",
            "Epoch 39/100\n",
            "938/938 [==============================] - 3s 4ms/step - loss: 0.0135\n",
            "Epoch 40/100\n",
            "938/938 [==============================] - 3s 3ms/step - loss: 0.0135\n",
            "Epoch 41/100\n",
            "938/938 [==============================] - 3s 3ms/step - loss: 0.0135\n",
            "Epoch 42/100\n",
            "938/938 [==============================] - 3s 3ms/step - loss: 0.0134\n",
            "Epoch 43/100\n",
            "938/938 [==============================] - 3s 3ms/step - loss: 0.0134\n",
            "Epoch 44/100\n",
            "938/938 [==============================] - 3s 3ms/step - loss: 0.0134\n",
            "Epoch 45/100\n",
            "938/938 [==============================] - 3s 3ms/step - loss: 0.0133\n",
            "Epoch 46/100\n",
            "938/938 [==============================] - 3s 4ms/step - loss: 0.0133\n",
            "Epoch 47/100\n",
            "938/938 [==============================] - 3s 4ms/step - loss: 0.0133\n",
            "Epoch 48/100\n",
            "938/938 [==============================] - 3s 3ms/step - loss: 0.0133\n",
            "Epoch 49/100\n",
            "938/938 [==============================] - 3s 3ms/step - loss: 0.0132\n",
            "Epoch 50/100\n",
            "938/938 [==============================] - 3s 3ms/step - loss: 0.0132\n",
            "Epoch 51/100\n",
            "938/938 [==============================] - 3s 3ms/step - loss: 0.0132\n",
            "Epoch 52/100\n",
            "938/938 [==============================] - 3s 4ms/step - loss: 0.0132\n",
            "Epoch 53/100\n",
            "938/938 [==============================] - 4s 4ms/step - loss: 0.0131\n",
            "Epoch 54/100\n",
            "938/938 [==============================] - 3s 4ms/step - loss: 0.0131\n",
            "Epoch 55/100\n",
            "938/938 [==============================] - 3s 4ms/step - loss: 0.0131\n",
            "Epoch 56/100\n",
            "938/938 [==============================] - 3s 4ms/step - loss: 0.0131\n",
            "Epoch 57/100\n",
            "938/938 [==============================] - 3s 3ms/step - loss: 0.0131\n",
            "Epoch 58/100\n",
            "938/938 [==============================] - 3s 4ms/step - loss: 0.0130\n",
            "Epoch 59/100\n",
            "938/938 [==============================] - 3s 3ms/step - loss: 0.0130\n",
            "Epoch 60/100\n",
            "938/938 [==============================] - 3s 4ms/step - loss: 0.0130\n",
            "Epoch 61/100\n",
            "938/938 [==============================] - 3s 3ms/step - loss: 0.0130\n",
            "Epoch 62/100\n",
            "938/938 [==============================] - 3s 4ms/step - loss: 0.0130\n",
            "Epoch 63/100\n",
            "938/938 [==============================] - 3s 3ms/step - loss: 0.0130\n",
            "Epoch 64/100\n",
            "938/938 [==============================] - 3s 4ms/step - loss: 0.0130\n",
            "Epoch 65/100\n",
            "938/938 [==============================] - 3s 3ms/step - loss: 0.0129\n",
            "Epoch 66/100\n",
            "938/938 [==============================] - 3s 4ms/step - loss: 0.0129\n",
            "Epoch 67/100\n",
            "938/938 [==============================] - 3s 3ms/step - loss: 0.0129\n",
            "Epoch 68/100\n",
            "938/938 [==============================] - 3s 3ms/step - loss: 0.0129\n",
            "Epoch 69/100\n",
            "938/938 [==============================] - 3s 3ms/step - loss: 0.0129\n",
            "Epoch 70/100\n",
            "938/938 [==============================] - 3s 3ms/step - loss: 0.0129\n",
            "Epoch 71/100\n",
            "938/938 [==============================] - 3s 3ms/step - loss: 0.0129\n",
            "Epoch 72/100\n",
            "938/938 [==============================] - 3s 4ms/step - loss: 0.0128\n",
            "Epoch 73/100\n",
            "938/938 [==============================] - 3s 3ms/step - loss: 0.0128\n",
            "Epoch 74/100\n",
            "938/938 [==============================] - 3s 3ms/step - loss: 0.0128\n",
            "Epoch 75/100\n",
            "938/938 [==============================] - 3s 4ms/step - loss: 0.0128\n",
            "Epoch 76/100\n",
            "938/938 [==============================] - 3s 4ms/step - loss: 0.0128\n",
            "Epoch 77/100\n",
            "938/938 [==============================] - 3s 4ms/step - loss: 0.0128\n",
            "Epoch 78/100\n",
            "938/938 [==============================] - 3s 4ms/step - loss: 0.0128\n",
            "Epoch 79/100\n",
            "938/938 [==============================] - 4s 4ms/step - loss: 0.0128\n",
            "Epoch 80/100\n",
            "938/938 [==============================] - 3s 4ms/step - loss: 0.0128\n",
            "Epoch 81/100\n",
            "938/938 [==============================] - 3s 4ms/step - loss: 0.0127\n",
            "Epoch 82/100\n",
            "938/938 [==============================] - 3s 4ms/step - loss: 0.0127\n",
            "Epoch 83/100\n",
            "938/938 [==============================] - 3s 4ms/step - loss: 0.0127\n",
            "Epoch 84/100\n",
            "938/938 [==============================] - 3s 4ms/step - loss: 0.0127\n",
            "Epoch 85/100\n",
            "938/938 [==============================] - 3s 3ms/step - loss: 0.0127\n",
            "Epoch 86/100\n",
            "938/938 [==============================] - 3s 3ms/step - loss: 0.0127\n",
            "Epoch 87/100\n",
            "938/938 [==============================] - 3s 4ms/step - loss: 0.0127\n",
            "Epoch 88/100\n",
            "938/938 [==============================] - 3s 3ms/step - loss: 0.0127\n",
            "Epoch 89/100\n",
            "938/938 [==============================] - 3s 3ms/step - loss: 0.0127\n",
            "Epoch 90/100\n",
            "938/938 [==============================] - 3s 4ms/step - loss: 0.0127\n",
            "Epoch 91/100\n",
            "938/938 [==============================] - 3s 4ms/step - loss: 0.0127\n",
            "Epoch 92/100\n",
            "938/938 [==============================] - 3s 4ms/step - loss: 0.0127\n",
            "Epoch 93/100\n",
            "938/938 [==============================] - 3s 3ms/step - loss: 0.0127\n",
            "Epoch 94/100\n",
            "938/938 [==============================] - 3s 3ms/step - loss: 0.0126\n",
            "Epoch 95/100\n",
            "938/938 [==============================] - 3s 3ms/step - loss: 0.0126\n",
            "Epoch 96/100\n",
            "938/938 [==============================] - 5s 5ms/step - loss: 0.0126\n",
            "Epoch 97/100\n",
            "938/938 [==============================] - 5s 5ms/step - loss: 0.0126\n",
            "Epoch 98/100\n",
            "938/938 [==============================] - 3s 3ms/step - loss: 0.0126\n",
            "Epoch 99/100\n",
            "938/938 [==============================] - 3s 3ms/step - loss: 0.0126\n",
            "Epoch 100/100\n",
            "938/938 [==============================] - 3s 3ms/step - loss: 0.0126\n"
          ],
          "name": "stdout"
        }
      ]
    },
    {
      "cell_type": "code",
      "metadata": {
        "id": "8sInMiWmFJFf",
        "colab_type": "code",
        "colab": {}
      },
      "source": [
        "predictions = model.predict(x_train)"
      ],
      "execution_count": 105,
      "outputs": []
    },
    {
      "cell_type": "code",
      "metadata": {
        "id": "KyQn4CvPGaCL",
        "colab_type": "code",
        "colab": {
          "base_uri": "https://localhost:8080/",
          "height": 641
        },
        "outputId": "277c96ad-f21b-47b1-b7db-bfdf662fec48"
      },
      "source": [
        "import matplotlib.pyplot as plt\n",
        "\n",
        "fig = plt.figure()\n",
        "axes = fig.add_axes([1,1,1,1])\n",
        "axes2 = fig.add_axes([2,1,1,1])\n",
        "axes3 = fig.add_axes([3,1,1,1])\n",
        "axes4 = fig.add_axes([1,2,1,1])\n",
        "axes5 = fig.add_axes([2,2,1,1])\n",
        "axes6 = fig.add_axes([3,2,1,1])\n",
        "\n",
        "axes.imshow(x_train[0].reshape(28, 28))\n",
        "axes2.imshow(x_train[1].reshape(28, 28))\n",
        "axes3.imshow(x_train[2].reshape(28, 28))\n",
        "axes4.imshow(predictions[0].reshape(28, 28))\n",
        "axes5.imshow(predictions[1].reshape(28, 28))\n",
        "axes6.imshow(predictions[2].reshape(28, 28))"
      ],
      "execution_count": 106,
      "outputs": [
        {
          "output_type": "execute_result",
          "data": {
            "text/plain": [
              "<matplotlib.image.AxesImage at 0x7f643ee9cda0>"
            ]
          },
          "metadata": {
            "tags": []
          },
          "execution_count": 106
        },
        {
          "output_type": "display_data",
          "data": {
            "image/png": "[encoded data removed]",
            "text/plain": [
              "<Figure size 432x288 with 6 Axes>"
            ]
          },
          "metadata": {
            "tags": [],
            "needs_background": "light"
          }
        }
      ]
    },
    {
      "cell_type": "code",
      "metadata": {
        "id": "ktFSCNhJKMeY",
        "colab_type": "code",
        "colab": {}
      },
      "source": [
        "reconstruction_error = np.sum(np.abs(x_train-predictions) *np.abs(x_train-predictions),axis=1)"
      ],
      "execution_count": 109,
      "outputs": []
    },
    {
      "cell_type": "code",
      "metadata": {
        "id": "Qwk6M-0RKjuu",
        "colab_type": "code",
        "colab": {
          "base_uri": "https://localhost:8080/",
          "height": 693
        },
        "outputId": "8bb2ef1b-0b31-4bd8-dda9-50a937fef344"
      },
      "source": [
        "fig = plt.figure()\n",
        "axes = fig.add_axes([1,1,1,1])\n",
        "axes.hist(reconstruction_error, bins=50)"
      ],
      "execution_count": 113,
      "outputs": [
        {
          "output_type": "execute_result",
          "data": {
            "text/plain": [
              "(array([1.840e+02, 1.344e+03, 1.787e+03, 1.615e+03, 1.773e+03, 2.243e+03,\n",
              "        2.984e+03, 3.783e+03, 4.253e+03, 4.404e+03, 4.367e+03, 4.354e+03,\n",
              "        4.012e+03, 3.772e+03, 3.256e+03, 2.910e+03, 2.390e+03, 2.110e+03,\n",
              "        1.640e+03, 1.351e+03, 1.126e+03, 8.910e+02, 7.140e+02, 5.860e+02,\n",
              "        4.650e+02, 3.910e+02, 2.730e+02, 2.300e+02, 1.810e+02, 1.510e+02,\n",
              "        1.060e+02, 8.300e+01, 5.400e+01, 4.700e+01, 5.800e+01, 2.700e+01,\n",
              "        1.900e+01, 1.300e+01, 1.400e+01, 5.000e+00, 9.000e+00, 7.000e+00,\n",
              "        3.000e+00, 7.000e+00, 1.000e+00, 1.000e+00, 1.000e+00, 1.000e+00,\n",
              "        2.000e+00, 2.000e+00]),\n",
              " array([ 1.6822357,  2.3725872,  3.062939 ,  3.7532904,  4.443642 ,\n",
              "         5.1339936,  5.824345 ,  6.5146966,  7.205048 ,  7.8953996,\n",
              "         8.585752 ,  9.276103 ,  9.9664545, 10.656806 , 11.3471575,\n",
              "        12.037509 , 12.72786  , 13.418212 , 14.108563 , 14.798916 ,\n",
              "        15.489267 , 16.179619 , 16.86997  , 17.560322 , 18.250673 ,\n",
              "        18.941025 , 19.631376 , 20.321728 , 21.01208  , 21.70243  ,\n",
              "        22.392782 , 23.083134 , 23.773485 , 24.463837 , 25.154188 ,\n",
              "        25.84454  , 26.534891 , 27.225243 , 27.915596 , 28.605947 ,\n",
              "        29.296299 , 29.98665  , 30.677002 , 31.367353 , 32.057705 ,\n",
              "        32.748055 , 33.438408 , 34.128757 , 34.81911  , 35.50946  ,\n",
              "        36.199814 ], dtype=float32),\n",
              " <a list of 50 Patch objects>)"
            ]
          },
          "metadata": {
            "tags": []
          },
          "execution_count": 113
        },
        {
          "output_type": "display_data",
          "data": {
            "image/png": "[encoded data removed]",
            "text/plain": [
              "<Figure size 432x288 with 1 Axes>"
            ]
          },
          "metadata": {
            "tags": [],
            "needs_background": "light"
          }
        }
      ]
    },
    {
      "cell_type": "code",
      "metadata": {
        "id": "u-XSDHOyLLvt",
        "colab_type": "code",
        "colab": {}
      },
      "source": [
        "outliers = x_train[reconstruction_error>25]\n",
        "outlier_predictions = predictions[reconstruction_error>25]"
      ],
      "execution_count": 117,
      "outputs": []
    },
    {
      "cell_type": "code",
      "metadata": {
        "id": "T8hQ-97PL0g7",
        "colab_type": "code",
        "colab": {
          "base_uri": "https://localhost:8080/",
          "height": 641
        },
        "outputId": "8a6ef980-447e-443c-9f71-49595491d73b"
      },
      "source": [
        "fig = plt.figure()\n",
        "axes = fig.add_axes([1,1,1,1])\n",
        "axes2 = fig.add_axes([2,1,1,1])\n",
        "axes3 = fig.add_axes([3,1,1,1])\n",
        "axes4 = fig.add_axes([1,2,1,1])\n",
        "axes5 = fig.add_axes([2,2,1,1])\n",
        "axes6 = fig.add_axes([3,2,1,1])\n",
        "\n",
        "axes.imshow(outliers[0].reshape(28, 28))\n",
        "axes2.imshow(outliers[1].reshape(28, 28))\n",
        "axes3.imshow(outliers[2].reshape(28, 28))\n",
        "axes4.imshow(outlier_predictions[0].reshape(28, 28))\n",
        "axes5.imshow(outlier_predictions[1].reshape(28, 28))\n",
        "axes6.imshow(outlier_predictions[2].reshape(28, 28))"
      ],
      "execution_count": 118,
      "outputs": [
        {
          "output_type": "execute_result",
          "data": {
            "text/plain": [
              "<matplotlib.image.AxesImage at 0x7f643e95c940>"
            ]
          },
          "metadata": {
            "tags": []
          },
          "execution_count": 118
        },
        {
          "output_type": "display_data",
          "data": {
            "image/png": "[encoded data removed]",
            "text/plain": [
              "<Figure size 432x288 with 6 Axes>"
            ]
          },
          "metadata": {
            "tags": [],
            "needs_background": "light"
          }
        }
      ]
    }
  ]
}